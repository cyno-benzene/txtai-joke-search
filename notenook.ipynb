{
 "cells": [
  {
   "cell_type": "markdown",
   "metadata": {},
   "source": [
    "#### Load dependencies"
   ]
  },
  {
   "cell_type": "code",
   "execution_count": 3,
   "metadata": {},
   "outputs": [],
   "source": [
    "from txtai import Embeddings\n",
    "import pandas as pd"
   ]
  },
  {
   "cell_type": "markdown",
   "metadata": {},
   "source": [
    "#### Load data"
   ]
  },
  {
   "cell_type": "code",
   "execution_count": null,
   "metadata": {},
   "outputs": [
    {
     "data": {
      "text/plain": [
       "4000"
      ]
     },
     "execution_count": 4,
     "metadata": {},
     "output_type": "execute_result"
    }
   ],
   "source": [
    "ds = pd.read_json('https://raw.githubusercontent.com/taivop/joke-dataset/refs/heads/master/reddit_jokes.json')\n",
    "ds = ds[:1000] # limited number of rows \n",
    "ds.size"
   ]
  },
  {
   "cell_type": "code",
   "execution_count": 23,
   "metadata": {},
   "outputs": [
    {
     "data": {
      "text/html": [
       "<div>\n",
       "<style scoped>\n",
       "    .dataframe tbody tr th:only-of-type {\n",
       "        vertical-align: middle;\n",
       "    }\n",
       "\n",
       "    .dataframe tbody tr th {\n",
       "        vertical-align: top;\n",
       "    }\n",
       "\n",
       "    .dataframe thead th {\n",
       "        text-align: right;\n",
       "    }\n",
       "</style>\n",
       "<table border=\"1\" class=\"dataframe\">\n",
       "  <thead>\n",
       "    <tr style=\"text-align: right;\">\n",
       "      <th></th>\n",
       "      <th>body</th>\n",
       "      <th>id</th>\n",
       "      <th>score</th>\n",
       "      <th>title</th>\n",
       "    </tr>\n",
       "  </thead>\n",
       "  <tbody>\n",
       "    <tr>\n",
       "      <th>0</th>\n",
       "      <td>Now I have to say \"Leroy can you please paint ...</td>\n",
       "      <td>5tz52q</td>\n",
       "      <td>1</td>\n",
       "      <td>I hate how you cant even say black paint anymore</td>\n",
       "    </tr>\n",
       "    <tr>\n",
       "      <th>1</th>\n",
       "      <td>Pizza doesn't scream when you put it in the ov...</td>\n",
       "      <td>5tz4dd</td>\n",
       "      <td>0</td>\n",
       "      <td>What's the difference between a Jew in Nazi Ge...</td>\n",
       "    </tr>\n",
       "    <tr>\n",
       "      <th>2</th>\n",
       "      <td>...and being there really helped me learn abou...</td>\n",
       "      <td>5tz319</td>\n",
       "      <td>0</td>\n",
       "      <td>I recently went to America....</td>\n",
       "    </tr>\n",
       "    <tr>\n",
       "      <th>3</th>\n",
       "      <td>A Sunday school teacher is concerned that his ...</td>\n",
       "      <td>5tz2wj</td>\n",
       "      <td>1</td>\n",
       "      <td>Brian raises his hand and says, “He’s in Heaven.”</td>\n",
       "    </tr>\n",
       "    <tr>\n",
       "      <th>4</th>\n",
       "      <td>He got caught trying to sell the two books to ...</td>\n",
       "      <td>5tz1pc</td>\n",
       "      <td>0</td>\n",
       "      <td>You hear about the University book store worke...</td>\n",
       "    </tr>\n",
       "  </tbody>\n",
       "</table>\n",
       "</div>"
      ],
      "text/plain": [
       "                                                body      id  score  \\\n",
       "0  Now I have to say \"Leroy can you please paint ...  5tz52q      1   \n",
       "1  Pizza doesn't scream when you put it in the ov...  5tz4dd      0   \n",
       "2  ...and being there really helped me learn abou...  5tz319      0   \n",
       "3  A Sunday school teacher is concerned that his ...  5tz2wj      1   \n",
       "4  He got caught trying to sell the two books to ...  5tz1pc      0   \n",
       "\n",
       "                                               title  \n",
       "0   I hate how you cant even say black paint anymore  \n",
       "1  What's the difference between a Jew in Nazi Ge...  \n",
       "2                     I recently went to America....  \n",
       "3  Brian raises his hand and says, “He’s in Heaven.”  \n",
       "4  You hear about the University book store worke...  "
      ]
     },
     "execution_count": 23,
     "metadata": {},
     "output_type": "execute_result"
    }
   ],
   "source": [
    "ds.head()"
   ]
  },
  {
   "cell_type": "markdown",
   "metadata": {},
   "source": [
    "#### Creating emdeddings and Index them"
   ]
  },
  {
   "cell_type": "code",
   "execution_count": 5,
   "metadata": {},
   "outputs": [],
   "source": [
    "embeddings = Embeddings({\"path\": \"sentence-transformers/nli-mpnet-base-v2\", \"content\": True})\n",
    "\n",
    "data = [(uid, {\"text\": row['title'], \"answer\": row['body']}, None) for uid, row in ds.iterrows()]\n",
    "embeddings.index(data)"
   ]
  },
  {
   "cell_type": "code",
   "execution_count": 9,
   "metadata": {},
   "outputs": [
    {
     "name": "stdout",
     "output_type": "stream",
     "text": [
      "(1, {'text': \"What's the difference between a Jew in Nazi Germany and pizza ?\", 'answer': \"Pizza doesn't scream when you put it in the oven .\\n\\nI'm so sorry.\"}, None)\n"
     ]
    }
   ],
   "source": [
    "print(data[1])"
   ]
  },
  {
   "cell_type": "markdown",
   "metadata": {},
   "source": [
    "#### Dump embeddings"
   ]
  },
  {
   "cell_type": "code",
   "execution_count": 10,
   "metadata": {},
   "outputs": [],
   "source": [
    "embeddings_path = \"./data/jokes.tar.gz\"\n",
    "embeddings.save(embeddings_path)"
   ]
  },
  {
   "cell_type": "markdown",
   "metadata": {},
   "source": [
    "#### Search"
   ]
  },
  {
   "cell_type": "code",
   "execution_count": 11,
   "metadata": {},
   "outputs": [],
   "source": [
    "from txtai.app import Application\n",
    "\n",
    "app = Application(f\"path: {embeddings_path}\")\n",
    "\n",
    "\n",
    "# Run search query\n",
    "def context(question):\n",
    "    return app.search(\"select text, answer, score from txtai where similar(:question)\", parameters={\"question\": question})"
   ]
  },
  {
   "cell_type": "code",
   "execution_count": 14,
   "metadata": {},
   "outputs": [
    {
     "data": {
      "text/plain": [
       "[{'text': 'A Girls Sleepover',\n",
       "  'answer': \"Amy: Truth or dare?\\n\\nLingling: Truth.\\n\\nAmy: Where's Sarah's dog?\\n\\nLingling: Dare.\\n\\n\\n\\n**lmao this is old asf and i am in no way racist, this just made me laugh**\",\n",
       "  'score': 0.41138988733291626},\n",
       " {'text': 'Did you hear about the kid-napping at the school?',\n",
       "  'answer': \"Well, he's fine. He's awake now. \",\n",
       "  'score': 0.3802448809146881},\n",
       " {'text': 'I love sleeping so much!',\n",
       "  'answer': '\\\\* Opens my eyes \\\\*\\n\\nDoctor: You were in Coma for four years.\\n\\nMe: Just five more minutes please.\\n\\n\\\\* Goes back to sleep \\\\*\\n',\n",
       "  'score': 0.37647131085395813},\n",
       " {'text': '[NSFW] If sleeping with an Asian gets you your yellow belt, what do you get when you sleep with a Muslim?',\n",
       "  'answer': 'A suicide belt',\n",
       "  'score': 0.37414389848709106},\n",
       " {'text': \"What's the difference between tired and exhausted?\",\n",
       "  'answer': 'When you run in front of a car, you get tired. When you run behind a car, you get exhausted.',\n",
       "  'score': 0.3702186942100525},\n",
       " {'text': 'Sex',\n",
       "  'answer': \"I know, I don't get it either. \",\n",
       "  'score': 0.36195579171180725},\n",
       " {'text': 'I woke up this morning and my bedside light had turned into a moth...',\n",
       "  'answer': \"That's the last time I ever buy a larva lamp…\",\n",
       "  'score': 0.2852780520915985},\n",
       " {'text': 'Have you heard the news about corduroy pillows?',\n",
       "  'answer': \"They're making headlines\",\n",
       "  'score': 0.27818426489830017},\n",
       " {'text': 'I used to think I was good in bed.....',\n",
       "  'answer': '\\nUntil my girlfriend told me she had asthma.',\n",
       "  'score': 0.27527227997779846},\n",
       " {'text': 'What do you get when you cross an insomniac, an agnostic and a dyslexic?',\n",
       "  'answer': 'Someone who lays awake at night wondering if there really is a dog. ',\n",
       "  'score': 0.2692500948905945}]"
      ]
     },
     "execution_count": 14,
     "metadata": {},
     "output_type": "execute_result"
    }
   ],
   "source": [
    "question = \"sleeping\"\n",
    "result = context(question)\n",
    "result"
   ]
  }
 ],
 "metadata": {
  "kernelspec": {
   "display_name": "venv",
   "language": "python",
   "name": "python3"
  },
  "language_info": {
   "codemirror_mode": {
    "name": "ipython",
    "version": 3
   },
   "file_extension": ".py",
   "mimetype": "text/x-python",
   "name": "python",
   "nbconvert_exporter": "python",
   "pygments_lexer": "ipython3",
   "version": "3.10.12"
  }
 },
 "nbformat": 4,
 "nbformat_minor": 2
}
